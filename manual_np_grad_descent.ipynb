{
  "nbformat": 4,
  "nbformat_minor": 0,
  "metadata": {
    "colab": {
      "provenance": [],
      "authorship_tag": "ABX9TyPsC7R4f4DOM80SKFW3LhAY",
      "include_colab_link": true
    },
    "kernelspec": {
      "name": "python3",
      "display_name": "Python 3"
    },
    "language_info": {
      "name": "python"
    }
  },
  "cells": [
    {
      "cell_type": "markdown",
      "metadata": {
        "id": "view-in-github",
        "colab_type": "text"
      },
      "source": [
        "<a href=\"https://colab.research.google.com/github/AmitPress/google-colab/blob/main/manual_np_grad_descent.ipynb\" target=\"_parent\"><img src=\"https://colab.research.google.com/assets/colab-badge.svg\" alt=\"Open In Colab\"/></a>"
      ]
    },
    {
      "cell_type": "code",
      "execution_count": 172,
      "metadata": {
        "id": "YOGi9Y30weVQ"
      },
      "outputs": [],
      "source": [
        "import numpy as np"
      ]
    },
    {
      "cell_type": "code",
      "source": [
        "# we will be working on a function and predict the output of that function given an input\n",
        "# the function is f(x)=8x"
      ],
      "metadata": {
        "id": "TM8Zj0kVwjDy"
      },
      "execution_count": 173,
      "outputs": []
    },
    {
      "cell_type": "code",
      "source": [
        "# lets make some dataset\n",
        "X = np.array([1, 2, 3, 4], dtype=np.float32)\n",
        "Y = np.array([8, 16, 24, 32], dtype=np.float32) # Y_train is Y actual"
      ],
      "metadata": {
        "id": "MoAaYQDww7d7"
      },
      "execution_count": 174,
      "outputs": []
    },
    {
      "cell_type": "code",
      "source": [
        "# X = np.array([1, 2, 3, 4], dtype=np.float32)\n",
        "# Y = np.array([2, 4, 6, 8], dtype=np.float32)"
      ],
      "metadata": {
        "id": "82bCCVRF7II4"
      },
      "execution_count": 175,
      "outputs": []
    },
    {
      "cell_type": "code",
      "source": [
        "# we will use the regression model which is h(x) = wx\n",
        "w = 0.0"
      ],
      "metadata": {
        "id": "i5ZCN5nDyEIV"
      },
      "execution_count": 176,
      "outputs": []
    },
    {
      "cell_type": "code",
      "source": [
        "# forward propagation is the model prediction\n",
        "def forward(x):\n",
        "  return w*x"
      ],
      "metadata": {
        "id": "_ES4V-Rayino"
      },
      "execution_count": 177,
      "outputs": []
    },
    {
      "cell_type": "code",
      "source": [
        "# as loss we will use MSE\n",
        "def loss(y, y_pred):\n",
        "  return ((y_pred - y)**2).mean()"
      ],
      "metadata": {
        "id": "nwC8c_Yt0ITR"
      },
      "execution_count": 178,
      "outputs": []
    },
    {
      "cell_type": "code",
      "source": [
        "# gradient of who?? Ans: loss function\n",
        "# J = MSE = 1/N * (w*x - y)**2\n",
        "# dJ/dw = 1/N * 2x(w*x - y)\n",
        "def backward(x, y, y_pred):\n",
        "  return ((2*x)@(y_pred - y)).mean()"
      ],
      "metadata": {
        "id": "S_kNNMEV0Y6U"
      },
      "execution_count": 179,
      "outputs": []
    },
    {
      "cell_type": "code",
      "source": [
        "print(f'prediction before training f(16) = {forward(16)}')"
      ],
      "metadata": {
        "colab": {
          "base_uri": "https://localhost:8080/"
        },
        "id": "D_aa2EZm1SBl",
        "outputId": "a64bc9a0-c2fe-414f-970a-441176a76660"
      },
      "execution_count": 180,
      "outputs": [
        {
          "output_type": "stream",
          "name": "stdout",
          "text": [
            "prediction before training f(16) = 0.0\n"
          ]
        }
      ]
    },
    {
      "cell_type": "code",
      "source": [
        "# training\n",
        "learning_rate = 0.01\n",
        "n_iters = 30\n",
        "\n",
        "for epoch in range(n_iters):\n",
        "  # model prediction\n",
        "  y_pred = forward(X) # model.fit()\n",
        "  # model loss\n",
        "  l = loss(Y, y_pred) # accuracy\n",
        "  # gradient\n",
        "  dw = backward(X, Y, y_pred)\n",
        "\n",
        "  # update weights\n",
        "  w -= learning_rate * dw\n",
        "  # printing steps\n",
        "  if epoch % 2 == 0: # per two steps\n",
        "    print(f'epoch {epoch+1}: weight: {w:3f}, loss: {l:2f}')"
      ],
      "metadata": {
        "colab": {
          "base_uri": "https://localhost:8080/"
        },
        "id": "iFrpjmOP1MOY",
        "outputId": "8492ee26-8420-4f94-c1a7-1a5c624ac9ba"
      },
      "execution_count": 181,
      "outputs": [
        {
          "output_type": "stream",
          "name": "stdout",
          "text": [
            "epoch 1: weight: 4.800000, loss: 480.000000\n",
            "epoch 3: weight: 7.488000, loss: 12.288003\n",
            "epoch 5: weight: 7.918080, loss: 0.314573\n",
            "epoch 7: weight: 7.986893, loss: 0.008053\n",
            "epoch 9: weight: 7.997903, loss: 0.000206\n",
            "epoch 11: weight: 7.999664, loss: 0.000005\n",
            "epoch 13: weight: 7.999946, loss: 0.000000\n",
            "epoch 15: weight: 7.999991, loss: 0.000000\n",
            "epoch 17: weight: 7.999999, loss: 0.000000\n",
            "epoch 19: weight: 8.000000, loss: 0.000000\n",
            "epoch 21: weight: 8.000000, loss: 0.000000\n",
            "epoch 23: weight: 8.000000, loss: 0.000000\n",
            "epoch 25: weight: 8.000000, loss: 0.000000\n",
            "epoch 27: weight: 8.000000, loss: 0.000000\n",
            "epoch 29: weight: 8.000000, loss: 0.000000\n"
          ]
        }
      ]
    },
    {
      "cell_type": "code",
      "source": [
        "print(f'prediction before training f(16) = {forward(16)}')"
      ],
      "metadata": {
        "colab": {
          "base_uri": "https://localhost:8080/"
        },
        "id": "3aH3_xEn3l3m",
        "outputId": "0eaa33eb-5d30-437b-8af8-2d00d51c8bcb"
      },
      "execution_count": 182,
      "outputs": [
        {
          "output_type": "stream",
          "name": "stdout",
          "text": [
            "prediction before training f(16) = 127.99999969482421\n"
          ]
        }
      ]
    }
  ]
}