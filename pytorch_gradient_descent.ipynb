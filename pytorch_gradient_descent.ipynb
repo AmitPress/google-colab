{
  "nbformat": 4,
  "nbformat_minor": 0,
  "metadata": {
    "colab": {
      "provenance": [],
      "authorship_tag": "ABX9TyNMBiEZe6kjU5hGLUGhc8yr",
      "include_colab_link": true
    },
    "kernelspec": {
      "name": "python3",
      "display_name": "Python 3"
    },
    "language_info": {
      "name": "python"
    }
  },
  "cells": [
    {
      "cell_type": "markdown",
      "metadata": {
        "id": "view-in-github",
        "colab_type": "text"
      },
      "source": [
        "<a href=\"https://colab.research.google.com/github/AmitPress/google-colab/blob/main/pytorch_gradient_descent.ipynb\" target=\"_parent\"><img src=\"https://colab.research.google.com/assets/colab-badge.svg\" alt=\"Open In Colab\"/></a>"
      ]
    },
    {
      "cell_type": "code",
      "execution_count": 25,
      "metadata": {
        "id": "lIAG77PF93Zv"
      },
      "outputs": [],
      "source": [
        "import torch"
      ]
    },
    {
      "cell_type": "code",
      "source": [
        "X_train = torch.tensor([1, 2, 3, 4], dtype=torch.float32)\n",
        "Y_train = torch.tensor([8, 16, 24, 32], dtype=torch.float32)"
      ],
      "metadata": {
        "id": "UIDgEf1CGv70"
      },
      "execution_count": 26,
      "outputs": []
    },
    {
      "cell_type": "code",
      "source": [
        "w = torch.tensor(0.0, dtype=torch.float32, requires_grad=True)"
      ],
      "metadata": {
        "id": "gp9q67tqG944"
      },
      "execution_count": 27,
      "outputs": []
    },
    {
      "cell_type": "code",
      "source": [
        "def forward(x): # training\n",
        "  return w * x\n"
      ],
      "metadata": {
        "id": "j4YiVpc_HHDa"
      },
      "execution_count": 28,
      "outputs": []
    },
    {
      "cell_type": "code",
      "source": [
        "def loss(y, y_pred): # MSE\n",
        "  return ((y_pred - y)**2).mean()"
      ],
      "metadata": {
        "id": "mIIGduRmHYL4"
      },
      "execution_count": 29,
      "outputs": []
    },
    {
      "cell_type": "code",
      "source": [
        "learning_rate = 0.01\n",
        "n_iters = 40\n",
        "\n",
        "for epoch in range(n_iters):\n",
        "  # train\n",
        "  y_pred = forward(X_train)\n",
        "\n",
        "  # measure loss\n",
        "  l = loss(Y_train, y_pred)\n",
        "\n",
        "  # find weights\n",
        "  l.backward()\n",
        "  dw = w.grad\n",
        "\n",
        "  # update weight\n",
        "  with torch.no_grad():\n",
        "    w -= learning_rate * dw\n",
        "  # reset grad to zero\n",
        "  w.grad.zero_()\n",
        "  \n",
        "  if epoch%2 == 0:\n",
        "    print(f'Epoch {epoch+1}: weight: {w.item():.3f} loss: {l.item():.3f}')\n"
      ],
      "metadata": {
        "colab": {
          "base_uri": "https://localhost:8080/"
        },
        "id": "QTfAzVrtHicw",
        "outputId": "b79e68ca-3ee8-41a2-a94e-5dc824355b80"
      },
      "execution_count": 30,
      "outputs": [
        {
          "output_type": "stream",
          "name": "stdout",
          "text": [
            "Epoch 1: weight: 1.200 loss: 480.000\n",
            "Epoch 3: weight: 3.087 loss: 250.563\n",
            "Epoch 5: weight: 4.450 loss: 130.795\n",
            "Epoch 7: weight: 5.435 loss: 68.276\n",
            "Epoch 9: weight: 6.147 loss: 35.641\n",
            "Epoch 11: weight: 6.661 loss: 18.605\n",
            "Epoch 13: weight: 7.033 loss: 9.712\n",
            "Epoch 15: weight: 7.301 loss: 5.070\n",
            "Epoch 17: weight: 7.495 loss: 2.646\n",
            "Epoch 19: weight: 7.635 loss: 1.381\n",
            "Epoch 21: weight: 7.736 loss: 0.721\n",
            "Epoch 23: weight: 7.810 loss: 0.376\n",
            "Epoch 25: weight: 7.862 loss: 0.196\n",
            "Epoch 27: weight: 7.901 loss: 0.103\n",
            "Epoch 29: weight: 7.928 loss: 0.054\n",
            "Epoch 31: weight: 7.948 loss: 0.028\n",
            "Epoch 33: weight: 7.963 loss: 0.015\n",
            "Epoch 35: weight: 7.973 loss: 0.008\n",
            "Epoch 37: weight: 7.980 loss: 0.004\n",
            "Epoch 39: weight: 7.986 loss: 0.002\n"
          ]
        }
      ]
    },
    {
      "cell_type": "code",
      "source": [
        "forward(11)"
      ],
      "metadata": {
        "colab": {
          "base_uri": "https://localhost:8080/"
        },
        "id": "V28jYyBXKIqz",
        "outputId": "4f1c2503-7c3b-4ce8-8000-ba394f84f789"
      },
      "execution_count": 31,
      "outputs": [
        {
          "output_type": "execute_result",
          "data": {
            "text/plain": [
              "tensor(87.8678, grad_fn=<MulBackward0>)"
            ]
          },
          "metadata": {},
          "execution_count": 31
        }
      ]
    }
  ]
}