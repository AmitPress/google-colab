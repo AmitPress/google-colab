{
  "nbformat": 4,
  "nbformat_minor": 0,
  "metadata": {
    "colab": {
      "provenance": [],
      "authorship_tag": "ABX9TyM5vO61YhtnSv0ODMSuLxBj",
      "include_colab_link": true
    },
    "kernelspec": {
      "name": "python3",
      "display_name": "Python 3"
    },
    "language_info": {
      "name": "python"
    }
  },
  "cells": [
    {
      "cell_type": "markdown",
      "metadata": {
        "id": "view-in-github",
        "colab_type": "text"
      },
      "source": [
        "<a href=\"https://colab.research.google.com/github/AmitPress/google-colab/blob/main/grad_x_square_fn.ipynb\" target=\"_parent\"><img src=\"https://colab.research.google.com/assets/colab-badge.svg\" alt=\"Open In Colab\"/></a>"
      ]
    },
    {
      "cell_type": "markdown",
      "source": [
        "## Intuitively it seems the approach below wont work"
      ],
      "metadata": {
        "id": "8sf5Trow6XMY"
      }
    },
    {
      "cell_type": "code",
      "execution_count": 10,
      "metadata": {
        "id": "XaWyvvAY4ngR"
      },
      "outputs": [],
      "source": [
        "import torch"
      ]
    },
    {
      "cell_type": "markdown",
      "source": [
        "f(x) = 2x+b\n",
        "h(x) = wx+b\n",
        "f(x) = x*x\n",
        "h(x) = w*x*x"
      ],
      "metadata": {
        "id": "J6nc_2EE5biC"
      }
    },
    {
      "cell_type": "code",
      "source": [
        "X_train = torch.tensor([1, 2, 3, 4], dtype=torch.float32)\n",
        "Y_train = torch.tensor([1, 4, 6, 16], dtype=torch.float32)"
      ],
      "metadata": {
        "id": "Dsz9UKe_4tTz"
      },
      "execution_count": 11,
      "outputs": []
    },
    {
      "cell_type": "code",
      "source": [
        "w = torch.tensor(0.0, requires_grad=True)"
      ],
      "metadata": {
        "id": "bznUmwLt4-5J"
      },
      "execution_count": 12,
      "outputs": []
    },
    {
      "cell_type": "code",
      "source": [
        "def forward(x):\n",
        "  return w*x*x"
      ],
      "metadata": {
        "id": "rh5Mz33M5KBK"
      },
      "execution_count": 13,
      "outputs": []
    },
    {
      "cell_type": "code",
      "source": [
        "def loss(y, y_pred):\n",
        "  return ((y_pred - y)**2).mean()"
      ],
      "metadata": {
        "id": "_4hvF3St6AvU"
      },
      "execution_count": 14,
      "outputs": []
    },
    {
      "cell_type": "code",
      "source": [
        "lr = 0.01\n",
        "n_iters = 100\n",
        "\n",
        "for epoch in range(n_iters):\n",
        "  y_pred = forward(X_train)\n",
        "  l = loss(Y_train, y_pred)\n",
        "  l.backward()\n",
        "  with torch.no_grad():\n",
        "    w -= lr * w.grad\n",
        "  w.grad.zero_()\n",
        "  if epoch % 3 == 0:\n",
        "    print(f'epoch {epoch+1}: weight: {w.item():.3f} loss: {l.item():.3f}')\n"
      ],
      "metadata": {
        "colab": {
          "base_uri": "https://localhost:8080/"
        },
        "id": "-d2RipuA6gHK",
        "outputId": "a05d6710-4c3b-4bfb-f9bd-9c2825c83a03"
      },
      "execution_count": 15,
      "outputs": [
        {
          "output_type": "stream",
          "name": "stdout",
          "text": [
            "epoch 1: weight: 1.635 loss: 77.250\n",
            "epoch 4: weight: 0.599 loss: 17.474\n",
            "epoch 7: weight: 1.072 loss: 5.016\n",
            "epoch 10: weight: 0.856 loss: 2.419\n",
            "epoch 13: weight: 0.955 loss: 1.878\n",
            "epoch 16: weight: 0.910 loss: 1.765\n",
            "epoch 19: weight: 0.930 loss: 1.741\n",
            "epoch 22: weight: 0.921 loss: 1.736\n",
            "epoch 25: weight: 0.925 loss: 1.735\n",
            "epoch 28: weight: 0.923 loss: 1.735\n",
            "epoch 31: weight: 0.924 loss: 1.735\n",
            "epoch 34: weight: 0.924 loss: 1.735\n",
            "epoch 37: weight: 0.924 loss: 1.735\n",
            "epoch 40: weight: 0.924 loss: 1.735\n",
            "epoch 43: weight: 0.924 loss: 1.735\n",
            "epoch 46: weight: 0.924 loss: 1.735\n",
            "epoch 49: weight: 0.924 loss: 1.735\n",
            "epoch 52: weight: 0.924 loss: 1.735\n",
            "epoch 55: weight: 0.924 loss: 1.735\n",
            "epoch 58: weight: 0.924 loss: 1.735\n",
            "epoch 61: weight: 0.924 loss: 1.735\n",
            "epoch 64: weight: 0.924 loss: 1.735\n",
            "epoch 67: weight: 0.924 loss: 1.735\n",
            "epoch 70: weight: 0.924 loss: 1.735\n",
            "epoch 73: weight: 0.924 loss: 1.735\n",
            "epoch 76: weight: 0.924 loss: 1.735\n",
            "epoch 79: weight: 0.924 loss: 1.735\n",
            "epoch 82: weight: 0.924 loss: 1.735\n",
            "epoch 85: weight: 0.924 loss: 1.735\n",
            "epoch 88: weight: 0.924 loss: 1.735\n",
            "epoch 91: weight: 0.924 loss: 1.735\n",
            "epoch 94: weight: 0.924 loss: 1.735\n",
            "epoch 97: weight: 0.924 loss: 1.735\n",
            "epoch 100: weight: 0.924 loss: 1.735\n"
          ]
        }
      ]
    },
    {
      "cell_type": "code",
      "source": [
        "forward(5)"
      ],
      "metadata": {
        "colab": {
          "base_uri": "https://localhost:8080/"
        },
        "id": "BBR-WdAN75Ho",
        "outputId": "d6fec67d-115b-47bb-90ef-4a834baf0140"
      },
      "execution_count": 16,
      "outputs": [
        {
          "output_type": "execute_result",
          "data": {
            "text/plain": [
              "tensor(23.0932, grad_fn=<MulBackward0>)"
            ]
          },
          "metadata": {},
          "execution_count": 16
        }
      ]
    }
  ]
}