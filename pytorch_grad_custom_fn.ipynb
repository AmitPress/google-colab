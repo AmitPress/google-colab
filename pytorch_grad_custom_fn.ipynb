{
  "nbformat": 4,
  "nbformat_minor": 0,
  "metadata": {
    "colab": {
      "provenance": [],
      "authorship_tag": "ABX9TyPP70E3EpnXC5BcXh9m6erF",
      "include_colab_link": true
    },
    "kernelspec": {
      "name": "python3",
      "display_name": "Python 3"
    },
    "language_info": {
      "name": "python"
    }
  },
  "cells": [
    {
      "cell_type": "markdown",
      "metadata": {
        "id": "view-in-github",
        "colab_type": "text"
      },
      "source": [
        "<a href=\"https://colab.research.google.com/github/AmitPress/google-colab/blob/main/pytorch_grad_custom_fn.ipynb\" target=\"_parent\"><img src=\"https://colab.research.google.com/assets/colab-badge.svg\" alt=\"Open In Colab\"/></a>"
      ]
    },
    {
      "cell_type": "code",
      "execution_count": null,
      "metadata": {
        "id": "UmA2PW_8OE8z"
      },
      "outputs": [],
      "source": [
        "import torch"
      ]
    },
    {
      "cell_type": "markdown",
      "source": [
        "#### Custom Function `f(x) = 2x + 5`"
      ],
      "metadata": {
        "id": "UvGnxuOlOUSZ"
      }
    },
    {
      "cell_type": "code",
      "source": [
        "X = torch.tensor([1,2,3,4], dtype=torch.float32)\n",
        "Y = torch.tensor([7,9,11,13], dtype=torch.float32)"
      ],
      "metadata": {
        "id": "wjihsq4rOJlf"
      },
      "execution_count": null,
      "outputs": []
    },
    {
      "cell_type": "code",
      "source": [
        "w = torch.tensor(0.0, dtype=torch.float32, requires_grad=True) # w er jonno gradient accumulate hobe"
      ],
      "metadata": {
        "id": "4lnHRMatOhf2"
      },
      "execution_count": null,
      "outputs": []
    },
    {
      "cell_type": "code",
      "source": [
        "def forward(x):\n",
        "  return w * x + 5"
      ],
      "metadata": {
        "id": "aUvqztIjOrYN"
      },
      "execution_count": null,
      "outputs": []
    },
    {
      "cell_type": "code",
      "source": [
        "def loss(y, y_pred):\n",
        "  return ((y_pred - y)**2).mean()"
      ],
      "metadata": {
        "id": "Zr9bby--PBT9"
      },
      "execution_count": null,
      "outputs": []
    },
    {
      "cell_type": "code",
      "source": [
        "learning_rate = 0.01\n",
        "n_iters = 30"
      ],
      "metadata": {
        "id": "7-yRKTMmPNMA"
      },
      "execution_count": null,
      "outputs": []
    },
    {
      "cell_type": "code",
      "source": [
        "for epoch in range(n_iters):\n",
        "  # training\n",
        "  y_pred = forward(X)\n",
        "  # loss\n",
        "  l = loss(Y, y_pred)\n",
        "  # learn weights\n",
        "  l.backward()\n",
        "  # update weights\n",
        "  with torch.no_grad():\n",
        "    w -= learning_rate * w.grad\n",
        "  w.grad.zero_()\n",
        "  if epoch % 3 == 0:\n",
        "    print(f'Epoch {epoch+1}: weight: {w.item():.3f} loss: {l.item():.3f}')"
      ],
      "metadata": {
        "colab": {
          "base_uri": "https://localhost:8080/"
        },
        "id": "xg_CfEJzPRw-",
        "outputId": "a3c8c326-474d-4000-ee1d-0105ecd16dfe"
      },
      "execution_count": null,
      "outputs": [
        {
          "output_type": "stream",
          "name": "stdout",
          "text": [
            "Epoch 1: weight: 0.300 loss: 30.000\n",
            "Epoch 4: weight: 0.956 loss: 11.314\n",
            "Epoch 7: weight: 1.359 loss: 4.267\n",
            "Epoch 10: weight: 1.606 loss: 1.609\n",
            "Epoch 13: weight: 1.758 loss: 0.607\n",
            "Epoch 16: weight: 1.851 loss: 0.229\n",
            "Epoch 19: weight: 1.909 loss: 0.086\n",
            "Epoch 22: weight: 1.944 loss: 0.033\n",
            "Epoch 25: weight: 1.966 loss: 0.012\n",
            "Epoch 28: weight: 1.979 loss: 0.005\n"
          ]
        }
      ]
    },
    {
      "cell_type": "code",
      "source": [
        "forward(5)"
      ],
      "metadata": {
        "colab": {
          "base_uri": "https://localhost:8080/"
        },
        "id": "12QH-F6xQeOq",
        "outputId": "2c1c0925-8d05-4811-ae6f-22b73921e225"
      },
      "execution_count": null,
      "outputs": [
        {
          "output_type": "execute_result",
          "data": {
            "text/plain": [
              "tensor(14.9237, grad_fn=<AddBackward0>)"
            ]
          },
          "metadata": {},
          "execution_count": 22
        }
      ]
    }
  ]
}