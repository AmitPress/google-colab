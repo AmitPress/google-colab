{
  "nbformat": 4,
  "nbformat_minor": 0,
  "metadata": {
    "colab": {
      "provenance": [],
      "authorship_tag": "ABX9TyMLmyalMflOZ9hO1KuD27Xs",
      "include_colab_link": true
    },
    "kernelspec": {
      "name": "python3",
      "display_name": "Python 3"
    },
    "language_info": {
      "name": "python"
    }
  },
  "cells": [
    {
      "cell_type": "markdown",
      "metadata": {
        "id": "view-in-github",
        "colab_type": "text"
      },
      "source": [
        "<a href=\"https://colab.research.google.com/github/AmitPress/google-colab/blob/main/numpy.ipynb\" target=\"_parent\"><img src=\"https://colab.research.google.com/assets/colab-badge.svg\" alt=\"Open In Colab\"/></a>"
      ]
    },
    {
      "cell_type": "markdown",
      "source": [
        "\n",
        "[Guide Link](https://www.python-engineer.com/posts/numpy-crash-course/)"
      ],
      "metadata": {
        "id": "_OYbLHyi7Mx4"
      }
    },
    {
      "cell_type": "code",
      "execution_count": 2,
      "metadata": {
        "id": "r4d-xnJ6vSd5"
      },
      "outputs": [],
      "source": [
        "import numpy as np"
      ]
    },
    {
      "cell_type": "code",
      "source": [
        "np.__version__"
      ],
      "metadata": {
        "colab": {
          "base_uri": "https://localhost:8080/",
          "height": 36
        },
        "id": "9V3hloIKv4U7",
        "outputId": "c1713f18-7e59-4e52-d502-811f52da9655"
      },
      "execution_count": 3,
      "outputs": [
        {
          "output_type": "execute_result",
          "data": {
            "text/plain": [
              "'1.21.6'"
            ],
            "application/vnd.google.colaboratory.intrinsic+json": {
              "type": "string"
            }
          },
          "metadata": {},
          "execution_count": 3
        }
      ]
    },
    {
      "cell_type": "code",
      "source": [
        "# central object is the array\n",
        "a = np.array([[1, 2, 1],\n",
        "              [2, 1, 6]])\n",
        "print(a.shape) # shape is of (rows, cols)\n",
        "print(a.size) # total number of element\n",
        "# observation\n",
        "# 1D array elements signifies rows (a vector basically)\n",
        "# 2D array elements signifies cols (a tensor basically)\n",
        "\n",
        "print(a.dtype)"
      ],
      "metadata": {
        "colab": {
          "base_uri": "https://localhost:8080/"
        },
        "id": "1Hzv5MXZv8x_",
        "outputId": "b63af275-6c47-45eb-c285-80cf270a771b"
      },
      "execution_count": 4,
      "outputs": [
        {
          "output_type": "stream",
          "name": "stdout",
          "text": [
            "(2, 3)\n",
            "6\n",
            "int64\n"
          ]
        }
      ]
    },
    {
      "cell_type": "code",
      "source": [
        "# list operations\n",
        "l = [1, 2, 3]\n",
        "\n",
        "# element wise\n",
        "# add, sub, mul, div\n",
        "# broadcasted addition is not possible\n",
        "# l2 = l + 6 #gives error\n",
        "# l2\n",
        "# broadcasted addition is not possible\n",
        "# l3 = l - 3 # error\n",
        "# l3\n",
        "# multiplication\n",
        "# l4 = l * 2 \n",
        "# l4 # [1, 2, 3, 1, 2, 3]\n",
        "# division \n",
        "# l5 = l / 2\n",
        "# l5 # error\n",
        "# verdict: in a list addition, subtraction and division is not possible in element wise mannar\n",
        "\n",
        "# list wise\n",
        "# addition is concatenation\n",
        "l1 = l + [6, 9]\n",
        "# subtraction\n",
        "# l12 = l - [1]\n",
        "# l12 # not possible\n",
        "# mul\n",
        "# l23 = l * [2]\n",
        "# l23 # not possible\n",
        "# div\n",
        "# l34 = l * [7]\n",
        "# l34 # not possible\n"
      ],
      "metadata": {
        "id": "LAL_jL_30hyD"
      },
      "execution_count": 5,
      "outputs": []
    },
    {
      "cell_type": "code",
      "source": [
        "# numpy array operations\n",
        "# broadcasting is supported\n",
        "\n",
        "ar = np.array([[1, 2],\n",
        "               [2, 1]])\n",
        "# addition\n",
        "ar + 5\n",
        "# subtraction\n",
        "ar - 5\n",
        "# multiplication\n",
        "ar * 5\n",
        "# division\n",
        "ar / 5\n",
        "# division by zero\n",
        "ar / 0 # inf\n",
        "# division by inf\n",
        "ar / np.inf # 0"
      ],
      "metadata": {
        "colab": {
          "base_uri": "https://localhost:8080/"
        },
        "id": "ZjdACwHj7KLC",
        "outputId": "b91bd633-6c6a-49b4-d37c-b4f1af9e86d4"
      },
      "execution_count": 6,
      "outputs": [
        {
          "output_type": "stream",
          "name": "stderr",
          "text": [
            "/usr/local/lib/python3.7/dist-packages/ipykernel_launcher.py:15: RuntimeWarning: divide by zero encountered in true_divide\n",
            "  from ipykernel import kernelapp as app\n"
          ]
        },
        {
          "output_type": "execute_result",
          "data": {
            "text/plain": [
              "array([[0., 0.],\n",
              "       [0., 0.]])"
            ]
          },
          "metadata": {},
          "execution_count": 6
        }
      ]
    },
    {
      "cell_type": "code",
      "source": [
        "# np.array operator np.array\n",
        "x = np.array([[1, 2],\n",
        "             [2, 1]])\n",
        "\n",
        "y = np.array([[0, 1],\n",
        "             [1, 0]])\n",
        "# add\n",
        "x + y\n",
        "# sub\n",
        "x - y\n",
        "# matmul\n",
        "x * y\n",
        "# matdiv\n",
        "x / y"
      ],
      "metadata": {
        "colab": {
          "base_uri": "https://localhost:8080/"
        },
        "id": "PsPvON9I93Gf",
        "outputId": "0531953b-afa7-4377-8931-f32d9bfd66da"
      },
      "execution_count": 7,
      "outputs": [
        {
          "output_type": "stream",
          "name": "stderr",
          "text": [
            "/usr/local/lib/python3.7/dist-packages/ipykernel_launcher.py:14: RuntimeWarning: divide by zero encountered in true_divide\n",
            "  \n"
          ]
        },
        {
          "output_type": "execute_result",
          "data": {
            "text/plain": [
              "array([[inf,  2.],\n",
              "       [ 2., inf]])"
            ]
          },
          "metadata": {},
          "execution_count": 7
        }
      ]
    },
    {
      "cell_type": "code",
      "source": [
        "u = np.array([1, 2, 1])\n",
        "v = np.array([5, 5, 5])\n",
        "# dot 1\n",
        "u.dot(v)\n",
        "# dot 2\n",
        "(u * v).sum()\n",
        "# dot 3\n",
        "u @ v"
      ],
      "metadata": {
        "colab": {
          "base_uri": "https://localhost:8080/"
        },
        "id": "sKf07Ay5Eovq",
        "outputId": "53da77e8-dc1c-4d0b-e60b-bcbbc0269241"
      },
      "execution_count": 8,
      "outputs": [
        {
          "output_type": "execute_result",
          "data": {
            "text/plain": [
              "20"
            ]
          },
          "metadata": {},
          "execution_count": 8
        }
      ]
    },
    {
      "cell_type": "markdown",
      "source": [
        "Transpose"
      ],
      "metadata": {
        "id": "qJofAFxCIa7w"
      }
    },
    {
      "cell_type": "code",
      "source": [
        "O = np.array([[-1, -2, -1],\n",
        "             [ 0,  0,  0],\n",
        "             [ 1,  2,  1]])\n",
        "O.T"
      ],
      "metadata": {
        "colab": {
          "base_uri": "https://localhost:8080/"
        },
        "id": "BUDuAVixIfVI",
        "outputId": "6baa649d-56ce-48c7-df31-c79df1cead87"
      },
      "execution_count": 9,
      "outputs": [
        {
          "output_type": "execute_result",
          "data": {
            "text/plain": [
              "array([[-1,  0,  1],\n",
              "       [-2,  0,  2],\n",
              "       [-1,  0,  1]])"
            ]
          },
          "metadata": {},
          "execution_count": 9
        }
      ]
    },
    {
      "cell_type": "markdown",
      "source": [
        "np.linalg"
      ],
      "metadata": {
        "id": "Tvy9vHbCJdmh"
      }
    },
    {
      "cell_type": "code",
      "source": [
        "j = np.array([[1, 2, 3],\n",
        "              [8, 1, 7],\n",
        "              [3, 8, 3]])\n",
        "np.linalg.det(j)\n",
        "np.linalg.inv(j)"
      ],
      "metadata": {
        "colab": {
          "base_uri": "https://localhost:8080/"
        },
        "id": "IaRjqURRJPqS",
        "outputId": "733c76e4-5d39-41ee-8536-eb1bfa367d0c"
      },
      "execution_count": 10,
      "outputs": [
        {
          "output_type": "execute_result",
          "data": {
            "text/plain": [
              "array([[-0.42741935,  0.14516129,  0.08870968],\n",
              "       [-0.02419355, -0.0483871 ,  0.13709677],\n",
              "       [ 0.49193548, -0.01612903, -0.12096774]])"
            ]
          },
          "metadata": {},
          "execution_count": 10
        }
      ]
    },
    {
      "cell_type": "code",
      "source": [
        "# zeros\n",
        "z = np.zeros((3, 2))\n",
        "o = np.ones((2, 2))\n",
        "e = np.eye(3)\n",
        "e"
      ],
      "metadata": {
        "colab": {
          "base_uri": "https://localhost:8080/"
        },
        "id": "7od5KEOl5LBa",
        "outputId": "2fd1d4d3-6cfe-44b5-ae96-79d189f53e6f"
      },
      "execution_count": 16,
      "outputs": [
        {
          "output_type": "execute_result",
          "data": {
            "text/plain": [
              "array([[1., 0., 0.],\n",
              "       [0., 1., 0.],\n",
              "       [0., 0., 1.]])"
            ]
          },
          "metadata": {},
          "execution_count": 16
        }
      ]
    },
    {
      "cell_type": "code",
      "source": [
        "# arange and reshape\n",
        "\n",
        "ar = np.arange(10)\n",
        "ar.reshape((5, 2)) # eta bhala na :3"
      ],
      "metadata": {
        "colab": {
          "base_uri": "https://localhost:8080/"
        },
        "id": "S1h0PmnV5Zru",
        "outputId": "24abc410-61a0-4918-bb6c-910f440e0d71"
      },
      "execution_count": 19,
      "outputs": [
        {
          "output_type": "execute_result",
          "data": {
            "text/plain": [
              "array([[0, 1],\n",
              "       [2, 3],\n",
              "       [4, 5],\n",
              "       [6, 7],\n",
              "       [8, 9]])"
            ]
          },
          "metadata": {},
          "execution_count": 19
        }
      ]
    }
  ]
}